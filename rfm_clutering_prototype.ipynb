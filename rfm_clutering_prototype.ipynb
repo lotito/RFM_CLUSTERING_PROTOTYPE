{
 "cells": [
  {
   "cell_type": "code",
   "execution_count": 1,
   "metadata": {
    "collapsed": false
   },
   "outputs": [],
   "source": [
    "#Par Loïc Lotito\n",
    "\n",
    "#chargement des bibliothéque\n",
    "import pandas as pd\n",
    "import numpy as np\n",
    "import matplotlib.pyplot as plt\n",
    "from sklearn.cluster import KMeans"
   ]
  },
  {
   "cell_type": "code",
   "execution_count": 2,
   "metadata": {
    "collapsed": false
   },
   "outputs": [
    {
     "data": {
      "text/plain": [
       "<pandas.io.excel.ExcelFile at 0x1f6e58c8550>"
      ]
     },
     "execution_count": 2,
     "metadata": {},
     "output_type": "execute_result"
    }
   ],
   "source": [
    "#Charger le fichier xls customers\n",
    "xls_file = pd.ExcelFile('customers.xls')\n",
    "xls_file"
   ]
  },
  {
   "cell_type": "code",
   "execution_count": 3,
   "metadata": {
    "collapsed": false
   },
   "outputs": [
    {
     "data": {
      "text/plain": [
       "['customers_apres_rfm', 'Graph']"
      ]
     },
     "execution_count": 3,
     "metadata": {},
     "output_type": "execute_result"
    }
   ],
   "source": [
    "# Affiche les feuilles\n",
    "xls_file.sheet_names"
   ]
  },
  {
   "cell_type": "code",
   "execution_count": 1,
   "metadata": {
    "collapsed": false
   },
   "outputs": [],
   "source": [
    "# Séléction de la feuille à traiter et définition du dataframe\n",
    "#Affichage des 5 premiéres lignes\n"
   ]
  },
  {
   "cell_type": "code",
   "execution_count": 5,
   "metadata": {
    "collapsed": false
   },
   "outputs": [
    {
     "name": "stdout",
     "output_type": "stream",
     "text": [
      "<class 'pandas.core.frame.DataFrame'>\n",
      "RangeIndex: 6516 entries, 0 to 6515\n",
      "Data columns (total 33 columns):\n",
      "NumCli                     6516 non-null object\n",
      "Compte_transaction         6516 non-null int64\n",
      "Total CA                   6516 non-null int64\n",
      "Score_recence              6516 non-null int64\n",
      "Score_frequence            6516 non-null int64\n",
      "Score_monetaire            6516 non-null int64\n",
      "Score_RFM                  6516 non-null int64\n",
      "BU                         6508 non-null object\n",
      "Nom du compte              6507 non-null object\n",
      "SIRET                      5712 non-null object\n",
      "Code NAF                   1884 non-null object\n",
      "Effectif de la sociÃ©te    5092 non-null object\n",
      "Code postal                6486 non-null object\n",
      "Dep                        6486 non-null object\n",
      "Pays Navision              6502 non-null object\n",
      "Date de newbizz            1571 non-null object\n",
      "SOLIDWORKS ELECTRICAL      6516 non-null int64\n",
      "VISIATIV                   6516 non-null int64\n",
      "VDOC                       6516 non-null int64\n",
      "SOLIDWORKS EDUC            6516 non-null int64\n",
      "SIMULIA                    6516 non-null int64\n",
      "NOVAXEL                    6516 non-null int64\n",
      "ISOTOOLS                   6516 non-null int64\n",
      "ENOVIA                     6516 non-null int64\n",
      "DELMIA                     6516 non-null int64\n",
      "CUSTOMTOOLS                6516 non-null int64\n",
      "COMMERCE                   6516 non-null int64\n",
      "CATIA                      6516 non-null int64\n",
      "AUTRES CAO                 6516 non-null int64\n",
      "3DVIA                      6516 non-null int64\n",
      "SOLIDWORKS TECH            6516 non-null int64\n",
      "SOLIDWORKS                 6516 non-null int64\n",
      "DateFacture                6516 non-null datetime64[ns]\n",
      "dtypes: datetime64[ns](1), int64(22), object(10)\n",
      "memory usage: 1.6+ MB\n"
     ]
    }
   ],
   "source": [
    "customersdf.info()"
   ]
  },
  {
   "cell_type": "code",
   "execution_count": 6,
   "metadata": {
    "collapsed": false
   },
   "outputs": [],
   "source": [
    "# Nous supprimons colonnes inutiles , ces colonnes ne seront pas utiles dans notre clustering\n",
    "customersdf = customersdf.drop(['BU','Nom du compte','SIRET','Code NAF','Effectif de la sociÃ©te','Code postal','Dep','Pays Navision','Date de newbizz','SOLIDWORKS ELECTRICAL','VISIATIV','VDOC','SOLIDWORKS EDUC','SIMULIA','NOVAXEL','ISOTOOLS','ENOVIA','DELMIA','CUSTOMTOOLS','COMMERCE','CATIA','AUTRES CAO','3DVIA','SOLIDWORKS TECH','SOLIDWORKS','DateFacture'], axis=1)"
   ]
  },
  {
   "cell_type": "code",
   "execution_count": 7,
   "metadata": {
    "collapsed": false,
    "scrolled": false
   },
   "outputs": [
    {
     "data": {
      "text/html": [
       "<div>\n",
       "<table border=\"1\" class=\"dataframe\">\n",
       "  <thead>\n",
       "    <tr style=\"text-align: right;\">\n",
       "      <th></th>\n",
       "      <th>Compte_transaction</th>\n",
       "      <th>Total CA</th>\n",
       "      <th>Score_recence</th>\n",
       "      <th>Score_frequence</th>\n",
       "      <th>Score_monetaire</th>\n",
       "      <th>Score_RFM</th>\n",
       "    </tr>\n",
       "  </thead>\n",
       "  <tbody>\n",
       "    <tr>\n",
       "      <th>count</th>\n",
       "      <td>6516.000000</td>\n",
       "      <td>6516.000000</td>\n",
       "      <td>6516.000000</td>\n",
       "      <td>6516.000000</td>\n",
       "      <td>6516.000000</td>\n",
       "      <td>6516.000000</td>\n",
       "    </tr>\n",
       "    <tr>\n",
       "      <th>mean</th>\n",
       "      <td>3.353131</td>\n",
       "      <td>14912.877839</td>\n",
       "      <td>3.000460</td>\n",
       "      <td>2.917894</td>\n",
       "      <td>3.005832</td>\n",
       "      <td>332.230816</td>\n",
       "    </tr>\n",
       "    <tr>\n",
       "      <th>std</th>\n",
       "      <td>4.371793</td>\n",
       "      <td>26826.389521</td>\n",
       "      <td>1.414485</td>\n",
       "      <td>1.403596</td>\n",
       "      <td>1.412681</td>\n",
       "      <td>142.015741</td>\n",
       "    </tr>\n",
       "    <tr>\n",
       "      <th>min</th>\n",
       "      <td>1.000000</td>\n",
       "      <td>-3704.000000</td>\n",
       "      <td>1.000000</td>\n",
       "      <td>1.000000</td>\n",
       "      <td>1.000000</td>\n",
       "      <td>121.000000</td>\n",
       "    </tr>\n",
       "    <tr>\n",
       "      <th>25%</th>\n",
       "      <td>1.000000</td>\n",
       "      <td>5178.500000</td>\n",
       "      <td>2.000000</td>\n",
       "      <td>2.000000</td>\n",
       "      <td>2.000000</td>\n",
       "      <td>223.000000</td>\n",
       "    </tr>\n",
       "    <tr>\n",
       "      <th>50%</th>\n",
       "      <td>2.000000</td>\n",
       "      <td>7326.000000</td>\n",
       "      <td>3.000000</td>\n",
       "      <td>3.000000</td>\n",
       "      <td>3.000000</td>\n",
       "      <td>333.000000</td>\n",
       "    </tr>\n",
       "    <tr>\n",
       "      <th>75%</th>\n",
       "      <td>4.000000</td>\n",
       "      <td>15424.500000</td>\n",
       "      <td>4.000000</td>\n",
       "      <td>4.000000</td>\n",
       "      <td>4.000000</td>\n",
       "      <td>444.000000</td>\n",
       "    </tr>\n",
       "    <tr>\n",
       "      <th>max</th>\n",
       "      <td>120.000000</td>\n",
       "      <td>785469.000000</td>\n",
       "      <td>5.000000</td>\n",
       "      <td>5.000000</td>\n",
       "      <td>5.000000</td>\n",
       "      <td>555.000000</td>\n",
       "    </tr>\n",
       "  </tbody>\n",
       "</table>\n",
       "</div>"
      ],
      "text/plain": [
       "       Compte_transaction       Total CA  Score_recence  Score_frequence  \\\n",
       "count         6516.000000    6516.000000    6516.000000      6516.000000   \n",
       "mean             3.353131   14912.877839       3.000460         2.917894   \n",
       "std              4.371793   26826.389521       1.414485         1.403596   \n",
       "min              1.000000   -3704.000000       1.000000         1.000000   \n",
       "25%              1.000000    5178.500000       2.000000         2.000000   \n",
       "50%              2.000000    7326.000000       3.000000         3.000000   \n",
       "75%              4.000000   15424.500000       4.000000         4.000000   \n",
       "max            120.000000  785469.000000       5.000000         5.000000   \n",
       "\n",
       "       Score_monetaire    Score_RFM  \n",
       "count      6516.000000  6516.000000  \n",
       "mean          3.005832   332.230816  \n",
       "std           1.412681   142.015741  \n",
       "min           1.000000   121.000000  \n",
       "25%           2.000000   223.000000  \n",
       "50%           3.000000   333.000000  \n",
       "75%           4.000000   444.000000  \n",
       "max           5.000000   555.000000  "
      ]
     },
     "execution_count": 7,
     "metadata": {},
     "output_type": "execute_result"
    }
   ],
   "source": [
    "# Analyse statistique sur les attributs séléctionnés  \n",
    "customersdf.describe()"
   ]
  },
  {
   "cell_type": "code",
   "execution_count": 8,
   "metadata": {
    "collapsed": false
   },
   "outputs": [
    {
     "name": "stdout",
     "output_type": "stream",
     "text": [
      "      Score_monetaire  Score_recence  Score_frequence\n",
      "0                   5              4                1\n",
      "1                   5              1                2\n",
      "2                   4              1                4\n",
      "3                   4              3                4\n",
      "4                   3              1                2\n",
      "5                   5              2                3\n",
      "6                   4              2                5\n",
      "7                   4              4                3\n",
      "8                   3              1                4\n",
      "9                   1              4                3\n",
      "10                  1              5                1\n",
      "11                  3              4                5\n",
      "12                  4              5                1\n",
      "13                  1              5                2\n",
      "14                  1              1                2\n",
      "15                  3              1                5\n",
      "16                  5              5                5\n",
      "17                  5              5                1\n",
      "18                  5              5                3\n",
      "19                  4              3                5\n",
      "20                  3              2                5\n",
      "21                  5              5                5\n",
      "22                  1              3                5\n",
      "23                  2              5                5\n",
      "24                  5              4                5\n",
      "25                  1              4                5\n",
      "26                  4              4                1\n",
      "27                  5              5                5\n",
      "28                  5              5                3\n",
      "29                  1              2                5\n",
      "...               ...            ...              ...\n",
      "6486                2              5                3\n",
      "6487                1              5                1\n",
      "6488                1              5                1\n",
      "6489                1              5                3\n",
      "6490                2              5                3\n",
      "6491                3              5                2\n",
      "6492                5              5                1\n",
      "6493                3              5                1\n",
      "6494                4              5                5\n",
      "6495                4              4                1\n",
      "6496                5              4                1\n",
      "6497                4              5                3\n",
      "6498                1              4                1\n",
      "6499                3              5                3\n",
      "6500                5              5                1\n",
      "6501                2              5                2\n",
      "6502                4              5                3\n",
      "6503                5              5                1\n",
      "6504                2              5                2\n",
      "6505                2              5                2\n",
      "6506                5              5                3\n",
      "6507                5              5                5\n",
      "6508                4              4                3\n",
      "6509                5              5                3\n",
      "6510                5              4                4\n",
      "6511                5              2                2\n",
      "6512                4              2                2\n",
      "6513                2              4                1\n",
      "6514                3              3                4\n",
      "6515                1              3                1\n",
      "\n",
      "[6516 rows x 3 columns]\n"
     ]
    }
   ],
   "source": [
    "# Sélection des attributs avant le clustering\n",
    "customersdf = customersdf[[u'Score_monetaire', u'Score_recence', u'Score_frequence']]\n",
    "print (customersdf)"
   ]
  },
  {
   "cell_type": "code",
   "execution_count": 9,
   "metadata": {
    "collapsed": false
   },
   "outputs": [],
   "source": [
    "# importation de l'algorithme\n",
    "from sklearn.cluster import KMeans\n",
    "clustering_model = KMeans(n_clusters=8,precompute_distances=True)"
   ]
  },
  {
   "cell_type": "code",
   "execution_count": 10,
   "metadata": {
    "collapsed": false
   },
   "outputs": [
    {
     "name": "stdout",
     "output_type": "stream",
     "text": [
      "Wall time: 216 ms\n"
     ]
    }
   ],
   "source": [
    "# affichage du temps de traitement\n",
    "%time clusters = clustering_model.fit_predict(customersdf)"
   ]
  },
  {
   "cell_type": "code",
   "execution_count": 11,
   "metadata": {
    "collapsed": false
   },
   "outputs": [
    {
     "name": "stdout",
     "output_type": "stream",
     "text": [
      "[[ 3.99767442  2.06046512  4.53255814]\n",
      " [ 2.06168549  1.62901825  2.23284101]\n",
      " [ 4.26869806  3.88088643  1.10526316]\n",
      " [ 3.999       4.481       3.859     ]\n",
      " [ 1.4684432   4.38008415  3.80084151]\n",
      " [ 1.5061296   2.05779335  4.5323993 ]\n",
      " [ 4.50977836  1.71577575  2.27640156]\n",
      " [ 1.81420765  4.1079235   1.15300546]]\n"
     ]
    }
   ],
   "source": [
    "#Afficher les cluster\n",
    "centroids = clustering_model.cluster_centers_\n",
    "print(centroids)"
   ]
  },
  {
   "cell_type": "code",
   "execution_count": 12,
   "metadata": {
    "collapsed": false
   },
   "outputs": [
    {
     "name": "stdout",
     "output_type": "stream",
     "text": [
      "8733.55203159\n"
     ]
    }
   ],
   "source": [
    "#affichage de l'inertie\n",
    "print (clustering_model.inertia_)"
   ]
  },
  {
   "cell_type": "code",
   "execution_count": 13,
   "metadata": {
    "collapsed": false
   },
   "outputs": [
    {
     "name": "stdout",
     "output_type": "stream",
     "text": [
      "Silhouette score : 0.35223383446\n"
     ]
    }
   ],
   "source": [
    "#affichage de la silhouette \n",
    "from sklearn.metrics import silhouette_score \n",
    "silhouette = silhouette_score(customersdf.values, clusters, metric='euclidean', sample_size=2000) \n",
    "print (\"Silhouette score :\", silhouette)"
   ]
  },
  {
   "cell_type": "code",
   "execution_count": 14,
   "metadata": {
    "collapsed": false
   },
   "outputs": [
    {
     "name": "stdout",
     "output_type": "stream",
     "text": [
      "<bound method NDFrame.head of       Score_monetaire  Score_recence  Score_frequence   cluster\n",
      "0                   5              4                1  cluster2\n",
      "1                   5              1                2  cluster6\n",
      "2                   4              1                4  cluster0\n",
      "3                   4              3                4  cluster0\n",
      "4                   3              1                2  cluster1\n",
      "5                   5              2                3  cluster6\n",
      "6                   4              2                5  cluster0\n",
      "7                   4              4                3  cluster3\n",
      "8                   3              1                4  cluster0\n",
      "9                   1              4                3  cluster4\n",
      "10                  1              5                1  cluster7\n",
      "11                  3              4                5  cluster3\n",
      "12                  4              5                1  cluster2\n",
      "13                  1              5                2  cluster7\n",
      "14                  1              1                2  cluster1\n",
      "15                  3              1                5  cluster0\n",
      "16                  5              5                5  cluster3\n",
      "17                  5              5                1  cluster2\n",
      "18                  5              5                3  cluster3\n",
      "19                  4              3                5  cluster0\n",
      "20                  3              2                5  cluster0\n",
      "21                  5              5                5  cluster3\n",
      "22                  1              3                5  cluster5\n",
      "23                  2              5                5  cluster4\n",
      "24                  5              4                5  cluster3\n",
      "25                  1              4                5  cluster4\n",
      "26                  4              4                1  cluster2\n",
      "27                  5              5                5  cluster3\n",
      "28                  5              5                3  cluster3\n",
      "29                  1              2                5  cluster5\n",
      "...               ...            ...              ...       ...\n",
      "6486                2              5                3  cluster4\n",
      "6487                1              5                1  cluster7\n",
      "6488                1              5                1  cluster7\n",
      "6489                1              5                3  cluster4\n",
      "6490                2              5                3  cluster4\n",
      "6491                3              5                2  cluster7\n",
      "6492                5              5                1  cluster2\n",
      "6493                3              5                1  cluster7\n",
      "6494                4              5                5  cluster3\n",
      "6495                4              4                1  cluster2\n",
      "6496                5              4                1  cluster2\n",
      "6497                4              5                3  cluster3\n",
      "6498                1              4                1  cluster7\n",
      "6499                3              5                3  cluster3\n",
      "6500                5              5                1  cluster2\n",
      "6501                2              5                2  cluster7\n",
      "6502                4              5                3  cluster3\n",
      "6503                5              5                1  cluster2\n",
      "6504                2              5                2  cluster7\n",
      "6505                2              5                2  cluster7\n",
      "6506                5              5                3  cluster3\n",
      "6507                5              5                5  cluster3\n",
      "6508                4              4                3  cluster3\n",
      "6509                5              5                3  cluster3\n",
      "6510                5              4                4  cluster3\n",
      "6511                5              2                2  cluster6\n",
      "6512                4              2                2  cluster6\n",
      "6513                2              4                1  cluster7\n",
      "6514                3              3                4  cluster0\n",
      "6515                1              3                1  cluster7\n",
      "\n",
      "[6516 rows x 4 columns]>\n"
     ]
    }
   ],
   "source": [
    "#Création et affichage du dataframe après clustering\n",
    "final = customersdf.join(pd.Series(clusters, index=customersdf.index, name='cluster'))\n",
    "final['cluster'] = final['cluster'].map(lambda cluster_id: 'cluster' + str(cluster_id))\n",
    "print (final.head)"
   ]
  },
  {
   "cell_type": "code",
   "execution_count": 15,
   "metadata": {
    "collapsed": false
   },
   "outputs": [
    {
     "name": "stdout",
     "output_type": "stream",
     "text": [
      "          taille\n",
      "cluster1    1151\n",
      "cluster3    1000\n",
      "cluster0     860\n",
      "cluster6     767\n",
      "cluster7     732\n",
      "cluster2     722\n",
      "cluster4     713\n",
      "cluster5     571\n"
     ]
    }
   ],
   "source": [
    "#Affichage de la taille des clusters\n",
    "taille = pd.DataFrame({'taille': final['cluster'].value_counts()})\n",
    "print (taille)"
   ]
  },
  {
   "cell_type": "code",
   "execution_count": 16,
   "metadata": {
    "collapsed": false
   },
   "outputs": [
    {
     "name": "stdout",
     "output_type": "stream",
     "text": [
      "          NumCli  Score_monetaire  Score_recence  Score_frequence   cluster\n",
      "0       CL000004                5              4                1  cluster2\n",
      "1       CL000017                5              1                2  cluster6\n",
      "2       CL000035                4              1                4  cluster0\n",
      "3       CL000050                4              3                4  cluster0\n",
      "4       CL000062                3              1                2  cluster1\n",
      "5       CL000071                5              2                3  cluster6\n",
      "6       CL000083                4              2                5  cluster0\n",
      "7       CL000097                4              4                3  cluster3\n",
      "8       CL000107                3              1                4  cluster0\n",
      "9       CL000119                1              4                3  cluster4\n",
      "10      CL000130                1              5                1  cluster7\n",
      "11      CL000151                3              4                5  cluster3\n",
      "12      CL000163                4              5                1  cluster2\n",
      "13      CL000184                1              5                2  cluster7\n",
      "14      CL000194                1              1                2  cluster1\n",
      "15      CL000204                3              1                5  cluster0\n",
      "16      CL000213                5              5                5  cluster3\n",
      "17      CL000222                5              5                1  cluster2\n",
      "18      CL000231                5              5                3  cluster3\n",
      "19      CL000239                4              3                5  cluster0\n",
      "20      CL000248                3              2                5  cluster0\n",
      "21      CL000258                5              5                5  cluster3\n",
      "22      CL000269                1              3                5  cluster5\n",
      "23      CL000283                2              5                5  cluster4\n",
      "24      CL000294                5              4                5  cluster3\n",
      "25      CL000307                1              4                5  cluster4\n",
      "26      CL000320                4              4                1  cluster2\n",
      "27      CL000336                5              5                5  cluster3\n",
      "28      CL000349                5              5                3  cluster3\n",
      "29      CL000362                1              2                5  cluster5\n",
      "...          ...              ...            ...              ...       ...\n",
      "6486    CL011769                2              5                3  cluster4\n",
      "6487    CL011788                1              5                1  cluster7\n",
      "6488    CL011803                1              5                1  cluster7\n",
      "6489    CL011817                1              5                3  cluster4\n",
      "6490    CL011826                2              5                3  cluster4\n",
      "6491    CL011838                3              5                2  cluster7\n",
      "6492    CL011857                5              5                1  cluster2\n",
      "6493    CL011867                3              5                1  cluster7\n",
      "6494  CLAC000064                4              5                5  cluster3\n",
      "6495  CLAC000119                4              4                1  cluster2\n",
      "6496  CLAC000241                5              4                1  cluster2\n",
      "6497  CLAC000319                4              5                3  cluster3\n",
      "6498  CLAC000408                1              4                1  cluster7\n",
      "6499  CLAC000609                3              5                3  cluster3\n",
      "6500  CLAC000651                5              5                1  cluster2\n",
      "6501  CLAC000718                2              5                2  cluster7\n",
      "6502  CLAC000822                4              5                3  cluster3\n",
      "6503  CLAC000904                5              5                1  cluster2\n",
      "6504  CLAC001037                2              5                2  cluster7\n",
      "6505  CLAC001114                2              5                2  cluster7\n",
      "6506  CLAC001133                5              5                3  cluster3\n",
      "6507  CLCS000016                5              5                5  cluster3\n",
      "6508  CLCS000046                4              4                3  cluster3\n",
      "6509  CLIN000042                5              5                3  cluster3\n",
      "6510  CLIN000150                5              4                4  cluster3\n",
      "6511  CLIN000268                5              2                2  cluster6\n",
      "6512  CLIN000395                4              2                2  cluster6\n",
      "6513  CLIN000521                2              4                1  cluster7\n",
      "6514  CLIN000627                3              3                4  cluster0\n",
      "6515  CLIN000664                1              3                1  cluster7\n",
      "\n",
      "[6516 rows x 5 columns]\n"
     ]
    }
   ],
   "source": [
    "#Préparation du fichier final avant téléchargement\n",
    "customersid = xls_file.parse('customers_apres_rfm')\n",
    "customersid = customersid.drop(['Score_monetaire', u'Score_recence', u'Score_frequence'], axis=1)\n",
    "final_clustering = pd.concat([customersid, final], axis=1)\n",
    "final_clustering = final_clustering[[u'NumCli',u'Score_monetaire', u'Score_recence', u'Score_frequence','cluster']]\n",
    "print (final_clustering)"
   ]
  },
  {
   "cell_type": "code",
   "execution_count": 17,
   "metadata": {
    "collapsed": false
   },
   "outputs": [
    {
     "name": "stdout",
     "output_type": "stream",
     "text": [
      "    cluster  Score_monetaire  Score_recence  Score_frequence\n",
      "0  cluster0         3.997674       2.060465         4.532558\n",
      "1  cluster1         2.061685       1.629018         2.232841\n",
      "2  cluster2         4.268698       3.880886         1.105263\n",
      "3  cluster3         3.999000       4.481000         3.859000\n",
      "4  cluster4         1.468443       4.380084         3.800842\n",
      "5  cluster5         1.506130       2.057793         4.532399\n",
      "6  cluster6         4.509778       1.715776         2.276402\n",
      "7  cluster7         1.814208       4.107923         1.153005\n"
     ]
    }
   ],
   "source": [
    "#DATAVIZ 1/2 : PREPARATION\n",
    "avant_viz = final_clustering.groupby(['cluster',]).aggregate(np.mean).reset_index()\n",
    "print (avant_viz)"
   ]
  },
  {
   "cell_type": "code",
   "execution_count": null,
   "metadata": {
    "collapsed": false
   },
   "outputs": [],
   "source": [
    "#DATAVIZ 2/2 : GRAPHIQUE\n",
    "\n",
    "# Réglage de la positions et la largeur pour les barres\n",
    "pos = list(range(len(avant_viz['Score_monetaire'])))\n",
    "width = 0.25\n",
    "\n",
    "# Traçage des barres\n",
    "fig, ax = plt.subplots(figsize=(14,5))\n",
    "\n",
    "# Créer ue bar avec les données de Score monétaire ,\n",
    "# En position pos ,\n",
    "plt.bar(pos,\n",
    "        #Utilisant Avant_viz['score_monétaire'] comme données,\n",
    "        avant_viz['Score_monetaire'],\n",
    "        # Réglage de la largeur\n",
    "        width,\n",
    "        # Réglage de l'alpha\n",
    "        alpha=0.5,\n",
    "        # Réglage de la couleur\n",
    "        color='#EE3224',\n",
    "        # Réglage de l'étiquette\n",
    "        label=avant_viz['cluster'][0])\n",
    "\n",
    "# Créer ue bar avec les données de Score récence ,\n",
    "plt.bar([p + width for p in pos],\n",
    "        avant_viz['Score_recence'],\n",
    "        width,\n",
    "        alpha=0.5,\n",
    "        color='#F78F1E',\n",
    "        label=avant_viz['cluster'][1])\n",
    "\n",
    "# Créer ue bar avec les données de Score fréquence ,\n",
    "plt.bar([p + width*2 for p in pos],\n",
    "        avant_viz['Score_frequence'],\n",
    "        width,\n",
    "        alpha=0.5,\n",
    "        color='#FFC222',\n",
    "        label=avant_viz['cluster'][2])\n",
    "\n",
    "# Définition de l'étiquette de l'axe y\n",
    "ax.set_ylabel('Score')\n",
    "\n",
    "# Titre du graphique\n",
    "ax.set_title('Médiane score RFM par Cluster')\n",
    "\n",
    "# Réglage de la position des étiquettes sur l'axe x\n",
    "ax.set_xticks([p + 1.5 * width for p in pos])\n",
    "\n",
    "# Définition des étiquettes pour l'axe x\n",
    "ax.set_xticklabels(avant_viz['cluster'])\n",
    "\n",
    "# Réglage des limites de l'axe x et axe y\n",
    "plt.xlim(min(pos)-width, max(pos)+width*4)\n",
    "plt.ylim([0, max(avant_viz['Score_monetaire'] + avant_viz['Score_recence'] + avant_viz['Score_recence'])] )\n",
    "\n",
    "# Ajout d'une légende\n",
    "plt.legend(['Score_monetaire', 'Score_recence', 'Score_frequence'], loc='upper left')\n",
    "plt.grid()\n",
    "plt.show()"
   ]
  },
  {
   "cell_type": "code",
   "execution_count": null,
   "metadata": {
    "collapsed": false
   },
   "outputs": [],
   "source": [
    "#Export des données\n",
    "avant_viz.to_csv('clients_RFM_mediane_cluster')\n",
    "final_clustering.to_csv('clients_RFM_clustering_Kmeans')"
   ]
  },
  {
   "cell_type": "code",
   "execution_count": null,
   "metadata": {
    "collapsed": true
   },
   "outputs": [],
   "source": [
    "rom sklearn2pmml import sklearn2pmml\n",
    "\n",
    "sklearn2pmml(clustering_model, \"LogisticRegressionIris.pmml\", with_repr = True)"
   ]
  }
 ],
 "metadata": {
  "celltoolbar": "Raw Cell Format",
  "kernelspec": {
   "display_name": "Python 3",
   "language": "python",
   "name": "python3"
  },
  "language_info": {
   "codemirror_mode": {
    "name": "ipython",
    "version": 3
   },
   "file_extension": ".py",
   "mimetype": "text/x-python",
   "name": "python",
   "nbconvert_exporter": "python",
   "pygments_lexer": "ipython3",
   "version": "3.5.1"
  }
 },
 "nbformat": 4,
 "nbformat_minor": 0
}
